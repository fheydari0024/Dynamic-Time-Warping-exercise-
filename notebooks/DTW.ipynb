{
  "nbformat": 4,
  "nbformat_minor": 0,
  "metadata": {
    "colab": {
      "provenance": [],
      "authorship_tag": "ABX9TyOgGticr7kYbtMNO6n6/+AU",
      "include_colab_link": true
    },
    "kernelspec": {
      "name": "python3",
      "display_name": "Python 3"
    },
    "language_info": {
      "name": "python"
    }
  },
  "cells": [
    {
      "cell_type": "markdown",
      "metadata": {
        "id": "view-in-github",
        "colab_type": "text"
      },
      "source": [
        "<a href=\"https://colab.research.google.com/github/fheydari0024/Dynamic-Time-Warping-exercise-/blob/main/notebooks/DTW.ipynb\" target=\"_parent\"><img src=\"https://colab.research.google.com/assets/colab-badge.svg\" alt=\"Open In Colab\"/></a>"
      ]
    },
    {
      "cell_type": "code",
      "source": [
        "from google.colab import drive\n",
        "drive.mount('/content/drive')"
      ],
      "metadata": {
        "colab": {
          "base_uri": "https://localhost:8080/"
        },
        "id": "ItvSWhSC0Yoo",
        "outputId": "18cf8194-1d99-4c80-949f-aec4154fa0a5"
      },
      "execution_count": null,
      "outputs": [
        {
          "output_type": "stream",
          "name": "stdout",
          "text": [
            "Mounted at /content/drive\n"
          ]
        }
      ]
    },
    {
      "cell_type": "code",
      "source": [
        "!pip install --upgrade numba"
      ],
      "metadata": {
        "colab": {
          "base_uri": "https://localhost:8080/"
        },
        "id": "TsJB5hQs2Gwu",
        "outputId": "0cf0455f-0778-43d7-baf0-f368f2aab754"
      },
      "execution_count": null,
      "outputs": [
        {
          "output_type": "stream",
          "name": "stdout",
          "text": [
            "Requirement already satisfied: numba in /usr/local/lib/python3.11/dist-packages (0.61.2)\n",
            "Requirement already satisfied: llvmlite<0.45,>=0.44.0dev0 in /usr/local/lib/python3.11/dist-packages (from numba) (0.44.0)\n",
            "Requirement already satisfied: numpy<2.3,>=1.24 in /usr/local/lib/python3.11/dist-packages (from numba) (2.0.2)\n"
          ]
        }
      ]
    },
    {
      "cell_type": "code",
      "source": [
        "!pip install librosa"
      ],
      "metadata": {
        "colab": {
          "base_uri": "https://localhost:8080/"
        },
        "id": "RbmNRBtzRN5S",
        "outputId": "e51c0ffb-166f-459f-eea4-1507f1fa3794"
      },
      "execution_count": null,
      "outputs": [
        {
          "output_type": "stream",
          "name": "stdout",
          "text": [
            "Requirement already satisfied: librosa in /usr/local/lib/python3.11/dist-packages (0.11.0)\n",
            "Requirement already satisfied: audioread>=2.1.9 in /usr/local/lib/python3.11/dist-packages (from librosa) (3.0.1)\n",
            "Requirement already satisfied: numba>=0.51.0 in /usr/local/lib/python3.11/dist-packages (from librosa) (0.61.2)\n",
            "Requirement already satisfied: numpy>=1.22.3 in /usr/local/lib/python3.11/dist-packages (from librosa) (2.0.2)\n",
            "Requirement already satisfied: scipy>=1.6.0 in /usr/local/lib/python3.11/dist-packages (from librosa) (1.15.3)\n",
            "Requirement already satisfied: scikit-learn>=1.1.0 in /usr/local/lib/python3.11/dist-packages (from librosa) (1.6.1)\n",
            "Requirement already satisfied: joblib>=1.0 in /usr/local/lib/python3.11/dist-packages (from librosa) (1.5.1)\n",
            "Requirement already satisfied: decorator>=4.3.0 in /usr/local/lib/python3.11/dist-packages (from librosa) (4.4.2)\n",
            "Requirement already satisfied: soundfile>=0.12.1 in /usr/local/lib/python3.11/dist-packages (from librosa) (0.13.1)\n",
            "Requirement already satisfied: pooch>=1.1 in /usr/local/lib/python3.11/dist-packages (from librosa) (1.8.2)\n",
            "Requirement already satisfied: soxr>=0.3.2 in /usr/local/lib/python3.11/dist-packages (from librosa) (0.5.0.post1)\n",
            "Requirement already satisfied: typing_extensions>=4.1.1 in /usr/local/lib/python3.11/dist-packages (from librosa) (4.13.2)\n",
            "Requirement already satisfied: lazy_loader>=0.1 in /usr/local/lib/python3.11/dist-packages (from librosa) (0.4)\n",
            "Requirement already satisfied: msgpack>=1.0 in /usr/local/lib/python3.11/dist-packages (from librosa) (1.1.0)\n",
            "Requirement already satisfied: packaging in /usr/local/lib/python3.11/dist-packages (from lazy_loader>=0.1->librosa) (24.2)\n",
            "Requirement already satisfied: llvmlite<0.45,>=0.44.0dev0 in /usr/local/lib/python3.11/dist-packages (from numba>=0.51.0->librosa) (0.44.0)\n",
            "Requirement already satisfied: platformdirs>=2.5.0 in /usr/local/lib/python3.11/dist-packages (from pooch>=1.1->librosa) (4.3.8)\n",
            "Requirement already satisfied: requests>=2.19.0 in /usr/local/lib/python3.11/dist-packages (from pooch>=1.1->librosa) (2.32.3)\n",
            "Requirement already satisfied: threadpoolctl>=3.1.0 in /usr/local/lib/python3.11/dist-packages (from scikit-learn>=1.1.0->librosa) (3.6.0)\n",
            "Requirement already satisfied: cffi>=1.0 in /usr/local/lib/python3.11/dist-packages (from soundfile>=0.12.1->librosa) (1.17.1)\n",
            "Requirement already satisfied: pycparser in /usr/local/lib/python3.11/dist-packages (from cffi>=1.0->soundfile>=0.12.1->librosa) (2.22)\n",
            "Requirement already satisfied: charset-normalizer<4,>=2 in /usr/local/lib/python3.11/dist-packages (from requests>=2.19.0->pooch>=1.1->librosa) (3.4.2)\n",
            "Requirement already satisfied: idna<4,>=2.5 in /usr/local/lib/python3.11/dist-packages (from requests>=2.19.0->pooch>=1.1->librosa) (3.10)\n",
            "Requirement already satisfied: urllib3<3,>=1.21.1 in /usr/local/lib/python3.11/dist-packages (from requests>=2.19.0->pooch>=1.1->librosa) (2.4.0)\n",
            "Requirement already satisfied: certifi>=2017.4.17 in /usr/local/lib/python3.11/dist-packages (from requests>=2.19.0->pooch>=1.1->librosa) (2025.4.26)\n"
          ]
        }
      ]
    },
    {
      "cell_type": "code",
      "source": [
        "import librosa\n",
        "import numpy as np\n",
        "\n",
        "file_bale = '/content/drive/MyDrive/DTW/Bale.mp3'\n",
        "file_kheyr = '/content/drive/MyDrive/DTW/Kheyr.mp3'\n",
        "y_bale, sr_bale = librosa.load(file_bale, sr=None)\n",
        "y_kheyr, sr_kheyr = librosa.load(file_kheyr, sr=None)\n",
        "\n",
        "# تقسیم سیگنال‌ها به فریم‌ها\n",
        "frame_length = 300\n",
        "hop_length = 100\n",
        "frames_bale = librosa.util.frame(y_bale, frame_length=frame_length, hop_length=hop_length)\n",
        "frames_kheyr = librosa.util.frame(y_kheyr, frame_length=frame_length, hop_length=hop_length)\n",
        "\n",
        "print(f\"Length of the 'bale' signal: {len(y_bale)} samples\")\n",
        "print(f\"Length of the 'kheyr' signal: {len(y_kheyr)} samples\")\n",
        "\n",
        "print(f\"Number of frames for the word 'bale': {frames_bale.shape[1]}\")\n",
        "print(f\"Number of frames for the word 'kheyr': {frames_kheyr.shape[1]}\")"
      ],
      "metadata": {
        "colab": {
          "base_uri": "https://localhost:8080/"
        },
        "id": "E_VNr525HRrK",
        "outputId": "b82437dd-585c-4e8b-8b35-6d1d4596ec0c"
      },
      "execution_count": null,
      "outputs": [
        {
          "output_type": "stream",
          "name": "stderr",
          "text": [
            "<ipython-input-32-edb2b3160720>:6: UserWarning: PySoundFile failed. Trying audioread instead.\n",
            "  y_bale, sr_bale = librosa.load(file_bale, sr=None)\n",
            "/usr/local/lib/python3.11/dist-packages/librosa/core/audio.py:184: FutureWarning: librosa.core.audio.__audioread_load\n",
            "\tDeprecated as of librosa version 0.10.0.\n",
            "\tIt will be removed in librosa version 1.0.\n",
            "  y, sr_native = __audioread_load(path, offset, duration, dtype)\n",
            "<ipython-input-32-edb2b3160720>:7: UserWarning: PySoundFile failed. Trying audioread instead.\n",
            "  y_kheyr, sr_kheyr = librosa.load(file_kheyr, sr=None)\n",
            "/usr/local/lib/python3.11/dist-packages/librosa/core/audio.py:184: FutureWarning: librosa.core.audio.__audioread_load\n",
            "\tDeprecated as of librosa version 0.10.0.\n",
            "\tIt will be removed in librosa version 1.0.\n",
            "  y, sr_native = __audioread_load(path, offset, duration, dtype)\n"
          ]
        },
        {
          "output_type": "stream",
          "name": "stdout",
          "text": [
            "Length of the 'bale' signal: 68608 samples\n",
            "Length of the 'kheyr' signal: 82944 samples\n",
            "Number of frames for the word 'bale': 684\n",
            "Number of frames for the word 'kheyr': 827\n"
          ]
        }
      ]
    },
    {
      "cell_type": "code",
      "source": [
        "def extract_mfcc(y, sr, frame_length=300, hop_length=100, n_mfcc=16):\n",
        "    frames = split_into_frames(y, frame_length, hop_length)\n",
        "\n",
        "    mfcc_features = []\n",
        "    for i in range(frames.shape[1]):\n",
        "        frame = frames[:, i]\n",
        "        mfcc = librosa.feature.mfcc(y=frame, sr=sr, n_mfcc=n_mfcc)\n",
        "        mfcc_features.append(mfcc.T.flatten())\n",
        "\n",
        "    mfcc_features = np.array(mfcc_features)\n",
        "    return mfcc_features\n",
        "\n",
        "# استخراج ویژگی‌های MFCC هر کلمه\n",
        "mfcc_bale = extract_mfcc(y_bale, sr_bale, frame_length=300, hop_length=100, n_mfcc=16)\n",
        "mfcc_kheyr = extract_mfcc(y_kheyr, sr_kheyr, frame_length=300, hop_length=100, n_mfcc=16)\n",
        "\n",
        "# نمایش ابعاد ویژگی‌های MFCC\n",
        "print(f\"MFCC feature dimensions for 'bale': {mfcc_bale.shape}\")\n",
        "print(f\"MFCC feature dimensions for 'kheyr': {mfcc_kheyr.shape}\")"
      ],
      "metadata": {
        "colab": {
          "base_uri": "https://localhost:8080/"
        },
        "id": "1dvnW5mLSSeF",
        "outputId": "1a851fb1-99f5-4347-e5c4-16da975250bb"
      },
      "execution_count": null,
      "outputs": [
        {
          "output_type": "stream",
          "name": "stderr",
          "text": [
            "/usr/local/lib/python3.11/dist-packages/librosa/core/spectrum.py:266: UserWarning: n_fft=2048 is too large for input signal of length=300\n",
            "  warnings.warn(\n"
          ]
        },
        {
          "output_type": "stream",
          "name": "stdout",
          "text": [
            "MFCC feature dimensions for 'bale': (684, 16)\n",
            "MFCC feature dimensions for 'kheyr': (827, 16)\n"
          ]
        }
      ]
    },
    {
      "cell_type": "code",
      "source": [
        "from scipy.spatial.distance import cdist\n",
        "file_test = '/content/drive/MyDrive/DTW/Test.mp3'\n",
        "y_test, sr_test = load_audio(file_test)\n",
        "mfcc_test = extract_mfcc(y_test, sr_test, frame_length=300, hop_length=100, n_mfcc=16)\n",
        "\n",
        "# محاسبه فاصله DTW\n",
        "def calculate_dtw(mfcc1, mfcc2):\n",
        "    distance_matrix = cdist(mfcc1, mfcc2, metric='euclidean')\n",
        "    return dynamic_time_warping(distance_matrix)\n",
        "\n",
        "def dynamic_time_warping(distance_matrix):\n",
        "    n, m = distance_matrix.shape\n",
        "    dtw = np.zeros((n+1, m+1))\n",
        "    dtw[0, 1:] = np.inf\n",
        "    dtw[1:, 0] = np.inf\n",
        "\n",
        "    for i in range(1, n+1):\n",
        "        for j in range(1, m+1):\n",
        "            cost = distance_matrix[i-1, j-1]\n",
        "            dtw[i, j] = cost + min(dtw[i-1, j], dtw[i, j-1], dtw[i-1, j-1])\n",
        "    return dtw[n, m]\n",
        "\n",
        "dtw_bale = calculate_dtw(mfcc_test, mfcc_bale)\n",
        "dtw_kheyr = calculate_dtw(mfcc_test, mfcc_kheyr)\n",
        "\n",
        "print(f\"DTW distance between the test word and 'bale': {dtw_bale}\")\n",
        "print(f\"DTW distance between the test word and 'kheyr': {dtw_kheyr}\")\n",
        "\n",
        "if dtw_bale < dtw_kheyr:\n",
        "    print(\"The word test is more like 'yes'.\")\n",
        "else:\n",
        "    print(\"The word test is more like 'kheyr'.\")"
      ],
      "metadata": {
        "colab": {
          "base_uri": "https://localhost:8080/"
        },
        "id": "L6CQxVuCRX16",
        "outputId": "363a4fc2-0dbe-43f0-db3f-a6178f29bdd3"
      },
      "execution_count": null,
      "outputs": [
        {
          "output_type": "stream",
          "name": "stderr",
          "text": [
            "<ipython-input-30-025f11c664f8>:10: UserWarning: PySoundFile failed. Trying audioread instead.\n",
            "  y, sr = librosa.load(file_path, sr=None)  # بارگذاری فایل صوتی\n",
            "/usr/local/lib/python3.11/dist-packages/librosa/core/audio.py:184: FutureWarning: librosa.core.audio.__audioread_load\n",
            "\tDeprecated as of librosa version 0.10.0.\n",
            "\tIt will be removed in librosa version 1.0.\n",
            "  y, sr_native = __audioread_load(path, offset, duration, dtype)\n",
            "/usr/local/lib/python3.11/dist-packages/librosa/core/spectrum.py:266: UserWarning: n_fft=2048 is too large for input signal of length=300\n",
            "  warnings.warn(\n"
          ]
        },
        {
          "output_type": "stream",
          "name": "stdout",
          "text": [
            "DTW distance between the test word and 'bale': 47106.84067470656\n",
            "DTW distance between the test word and 'kheyr': 47967.581602629\n",
            "The word test is more like 'yes'.\n"
          ]
        }
      ]
    }
  ]
}